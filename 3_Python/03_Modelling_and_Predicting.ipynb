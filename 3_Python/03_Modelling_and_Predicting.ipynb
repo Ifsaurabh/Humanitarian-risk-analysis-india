{
 "cells": [
  {
   "cell_type": "markdown",
   "id": "521403a3-bffe-4564-92a9-69c155aa827a",
   "metadata": {},
   "source": [
    "## Modelling"
   ]
  },
  {
   "cell_type": "markdown",
   "id": "abb5f7ee-dcbe-496f-b823-fb1d5fe5559a",
   "metadata": {},
   "source": [
    "### Goal\n",
    "#### Predict poverty-weighted price based on commodity, location, and poverty indicators. \n",
    "#### This helps forecast economic burden in vulnerable regions."
   ]
  },
  {
   "cell_type": "markdown",
   "id": "530549b5-9fe6-47ae-b8bc-14168d6ef8cd",
   "metadata": {},
   "source": [
    "#### - Preparing the data"
   ]
  },
  {
   "cell_type": "code",
   "execution_count": 2,
   "id": "2ce5d6a3-09d8-498b-81d0-c3bfef7c7a40",
   "metadata": {},
   "outputs": [
    {
     "ename": "NameError",
     "evalue": "name 'df_poverty_matched' is not defined",
     "output_type": "error",
     "traceback": [
      "\u001b[31m---------------------------------------------------------------------------\u001b[39m",
      "\u001b[31mNameError\u001b[39m                                 Traceback (most recent call last)",
      "\u001b[36mCell\u001b[39m\u001b[36m \u001b[39m\u001b[32mIn[2]\u001b[39m\u001b[32m, line 7\u001b[39m\n\u001b[32m      4\u001b[39m \u001b[38;5;28;01mfrom\u001b[39;00m\u001b[38;5;250m \u001b[39m\u001b[34;01msklearn\u001b[39;00m\u001b[34;01m.\u001b[39;00m\u001b[34;01mmetrics\u001b[39;00m\u001b[38;5;250m \u001b[39m\u001b[38;5;28;01mimport\u001b[39;00m mean_squared_error, r2_score\n\u001b[32m      6\u001b[39m \u001b[38;5;66;03m# Filter rows with complete data\u001b[39;00m\n\u001b[32m----> \u001b[39m\u001b[32m7\u001b[39m df_model = \u001b[43mdf_poverty_matched\u001b[49m.dropna(subset=[\n\u001b[32m      8\u001b[39m     \u001b[33m\"\u001b[39m\u001b[33mpoverty_weighted_price\u001b[39m\u001b[33m\"\u001b[39m, \u001b[33m\"\u001b[39m\u001b[33mprice_local\u001b[39m\u001b[33m\"\u001b[39m, \u001b[33m\"\u001b[39m\u001b[33mmultidimensional_poverty_index\u001b[39m\u001b[33m\"\u001b[39m,\n\u001b[32m      9\u001b[39m     \u001b[33m\"\u001b[39m\u001b[33mpoverty_headcount_ratio\u001b[39m\u001b[33m\"\u001b[39m, \u001b[33m\"\u001b[39m\u001b[33mcommodity\u001b[39m\u001b[33m\"\u001b[39m, \u001b[33m\"\u001b[39m\u001b[33mstate_name\u001b[39m\u001b[33m\"\u001b[39m\n\u001b[32m     10\u001b[39m ])\n\u001b[32m     12\u001b[39m \u001b[38;5;66;03m# One-hot encode categorical features\u001b[39;00m\n\u001b[32m     13\u001b[39m df_encoded = pd.get_dummies(df_model[[\n\u001b[32m     14\u001b[39m     \u001b[33m\"\u001b[39m\u001b[33mcommodity\u001b[39m\u001b[33m\"\u001b[39m, \u001b[33m\"\u001b[39m\u001b[33mstate_name\u001b[39m\u001b[33m\"\u001b[39m\n\u001b[32m     15\u001b[39m ]], drop_first=\u001b[38;5;28;01mTrue\u001b[39;00m)\n",
      "\u001b[31mNameError\u001b[39m: name 'df_poverty_matched' is not defined"
     ]
    }
   ],
   "source": [
    "from sklearn.model_selection import train_test_split\n",
    "from sklearn.preprocessing import OneHotEncoder\n",
    "from sklearn.linear_model import LinearRegression\n",
    "from sklearn.metrics import mean_squared_error, r2_score\n",
    "\n",
    "# Filter rows with complete data\n",
    "df_model = df_poverty_matched.dropna(subset=[\n",
    "    \"poverty_weighted_price\", \"price_local\", \"multidimensional_poverty_index\",\n",
    "    \"poverty_headcount_ratio\", \"commodity\", \"state_name\"\n",
    "])\n",
    "\n",
    "# One-hot encode categorical features\n",
    "df_encoded = pd.get_dummies(df_model[[\n",
    "    \"commodity\", \"state_name\"\n",
    "]], drop_first=True)\n",
    "\n",
    "# Combine with numeric features\n",
    "X = pd.concat([\n",
    "    df_encoded,\n",
    "    df_model[[\"price_local\", \"multidimensional_poverty_index\", \"poverty_headcount_ratio\"]]\n",
    "], axis=1)\n",
    "\n",
    "y = df_model[\"poverty_weighted_price\"]\n"
   ]
  },
  {
   "cell_type": "code",
   "execution_count": null,
   "id": "3b35c0d8-cd35-4c5c-8428-97611778eff7",
   "metadata": {},
   "outputs": [],
   "source": []
  }
 ],
 "metadata": {
  "kernelspec": {
   "display_name": "Python 3",
   "language": "python",
   "name": "python3"
  },
  "language_info": {
   "codemirror_mode": {
    "name": "ipython",
    "version": 3
   },
   "file_extension": ".py",
   "mimetype": "text/x-python",
   "name": "python",
   "nbconvert_exporter": "python",
   "pygments_lexer": "ipython3",
   "version": "3.13.5"
  }
 },
 "nbformat": 4,
 "nbformat_minor": 5
}
